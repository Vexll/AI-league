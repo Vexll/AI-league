{
 "cells": [
  {
   "cell_type": "code",
   "execution_count": 15,
   "metadata": {},
   "outputs": [],
   "source": [
    "from selenium import webdriver\n",
    "from selenium.webdriver.common.by import By\n",
    "import time\n",
    "from bs4 import BeautifulSoup\n",
    "import pandas as pd"
   ]
  },
  {
   "cell_type": "code",
   "execution_count": 16,
   "metadata": {},
   "outputs": [],
   "source": [
    "driver = webdriver.Chrome()"
   ]
  },
  {
   "cell_type": "code",
   "execution_count": 17,
   "metadata": {},
   "outputs": [],
   "source": [
    "# go to the website\n",
    "url = \"https://www.transfermarkt.com/saudi-pro-league/gesamtspielplan/wettbewerb/SA1/saison_id/2024\"\n",
    "driver.get(url)\n",
    "\n",
    "# wait for the cookies box\n",
    "time.sleep(5)"
   ]
  },
  {
   "cell_type": "code",
   "execution_count": null,
   "metadata": {},
   "outputs": [],
   "source": [
    "# refresh and scroll the page manually \n",
    "driver.refresh()"
   ]
  },
  {
   "cell_type": "code",
   "execution_count": 21,
   "metadata": {},
   "outputs": [],
   "source": [
    "html_source = driver.page_source"
   ]
  },
  {
   "cell_type": "code",
   "execution_count": 22,
   "metadata": {},
   "outputs": [],
   "source": [
    "driver.quit()"
   ]
  },
  {
   "cell_type": "code",
   "execution_count": 48,
   "metadata": {},
   "outputs": [],
   "source": [
    "soup = BeautifulSoup(html_source, \"html.parser\")\n",
    "matchday_tables = soup.find_all(\"div\", class_=\"large-6 columns\") + soup.find_all(\"div\", class_=\"large-6 columns end\")"
   ]
  },
  {
   "cell_type": "code",
   "execution_count": 107,
   "metadata": {},
   "outputs": [],
   "source": [
    "filtered_tables = [t.find_all(\"div\", class_=\"box\") for t in matchday_tables]"
   ]
  },
  {
   "cell_type": "code",
   "execution_count": 109,
   "metadata": {},
   "outputs": [],
   "source": [
    "# df columns\n",
    "dates, times, home_teams, results, away_teams = [], [], [], [], []"
   ]
  },
  {
   "cell_type": "code",
   "execution_count": 115,
   "metadata": {},
   "outputs": [],
   "source": [
    "for table in filtered_tables:\n",
    "    rows = table[0].find_all(\"tr\")\n",
    "    for row in rows:\n",
    "        # Extract date (if present)\n",
    "        date_tag = row.find(\"td\", class_=\"hide-for-small\")\n",
    "        date = date_tag.find(\"a\").text.strip() if date_tag and date_tag.find(\"a\") else \"N/A\"\n",
    "\n",
    "        # Extract time (if present)\n",
    "        time_tag = row.find(\"td\", class_=\"zentriert hide-for-small\")\n",
    "        time = time_tag.text.strip() if time_tag else \"N/A\"\n",
    "\n",
    "        # Extract home team (if present)\n",
    "        home_team_tag = row.find(\"td\", class_=\"text-right no-border-rechts hauptlink\")\n",
    "        home_team = home_team_tag.text.strip() if home_team_tag else \"N/A\"\n",
    "\n",
    "        # Extract result (if present)\n",
    "        result_tag = row.find(\"td\", class_=\"zentriert hauptlink\")\n",
    "        result = result_tag.find(\"a\").text.strip() if result_tag and result_tag.find(\"a\") else \"N/A\"\n",
    "\n",
    "        # Extract away team (if present)\n",
    "        away_team_tag = row.find(\"td\", class_=\"no-border-links hauptlink\")\n",
    "        away_team = away_team_tag.text.strip() if away_team_tag else \"N/A\"\n",
    "\n",
    "        # Append extracted data\n",
    "        dates.append(date)\n",
    "        times.append(time)\n",
    "        home_teams.append(home_team)\n",
    "        results.append(result)\n",
    "        away_teams.append(away_team)"
   ]
  },
  {
   "cell_type": "code",
   "execution_count": 116,
   "metadata": {},
   "outputs": [],
   "source": [
    "# Create a DataFrame\n",
    "df = pd.DataFrame({\n",
    "    \"Date\": dates,\n",
    "    \"Time\": times,\n",
    "    \"Home Team\": home_teams,\n",
    "    \"Result\": results,\n",
    "    \"Away Team\": away_teams\n",
    "})"
   ]
  },
  {
   "cell_type": "code",
   "execution_count": 131,
   "metadata": {},
   "outputs": [
    {
     "data": {
      "text/html": [
       "<div>\n",
       "<style scoped>\n",
       "    .dataframe tbody tr th:only-of-type {\n",
       "        vertical-align: middle;\n",
       "    }\n",
       "\n",
       "    .dataframe tbody tr th {\n",
       "        vertical-align: top;\n",
       "    }\n",
       "\n",
       "    .dataframe thead th {\n",
       "        text-align: right;\n",
       "    }\n",
       "</style>\n",
       "<table border=\"1\" class=\"dataframe\">\n",
       "  <thead>\n",
       "    <tr style=\"text-align: right;\">\n",
       "      <th></th>\n",
       "      <th>Date</th>\n",
       "      <th>Time</th>\n",
       "      <th>Home Team</th>\n",
       "      <th>Result</th>\n",
       "      <th>Away Team</th>\n",
       "    </tr>\n",
       "  </thead>\n",
       "  <tbody>\n",
       "    <tr>\n",
       "      <th>0</th>\n",
       "      <td>N/A</td>\n",
       "      <td>N/A</td>\n",
       "      <td>N/A</td>\n",
       "      <td>N/A</td>\n",
       "      <td>N/A</td>\n",
       "    </tr>\n",
       "    <tr>\n",
       "      <th>1</th>\n",
       "      <td>N/A</td>\n",
       "      <td>N/A</td>\n",
       "      <td>N/A</td>\n",
       "      <td>N/A</td>\n",
       "      <td>N/A</td>\n",
       "    </tr>\n",
       "    <tr>\n",
       "      <th>2</th>\n",
       "      <td>8/22/24</td>\n",
       "      <td>6:10 PM</td>\n",
       "      <td>Al-Taawoun</td>\n",
       "      <td>1:0</td>\n",
       "      <td>Al-Fayha</td>\n",
       "    </tr>\n",
       "    <tr>\n",
       "      <th>3</th>\n",
       "      <td>N/A</td>\n",
       "      <td>N/A</td>\n",
       "      <td>N/A</td>\n",
       "      <td>N/A</td>\n",
       "      <td>N/A</td>\n",
       "    </tr>\n",
       "    <tr>\n",
       "      <th>4</th>\n",
       "      <td>N/A</td>\n",
       "      <td>8:00 PM</td>\n",
       "      <td>Al-Wehda</td>\n",
       "      <td>3:3</td>\n",
       "      <td>Al-Riyadh</td>\n",
       "    </tr>\n",
       "  </tbody>\n",
       "</table>\n",
       "</div>"
      ],
      "text/plain": [
       "      Date     Time   Home Team Result  Away Team\n",
       "0      N/A      N/A         N/A    N/A        N/A\n",
       "1      N/A      N/A         N/A    N/A        N/A\n",
       "2  8/22/24  6:10 PM  Al-Taawoun    1:0   Al-Fayha\n",
       "3      N/A      N/A         N/A    N/A        N/A\n",
       "4      N/A  8:00 PM    Al-Wehda    3:3  Al-Riyadh"
      ]
     },
     "execution_count": 131,
     "metadata": {},
     "output_type": "execute_result"
    }
   ],
   "source": [
    "df.head()"
   ]
  },
  {
   "cell_type": "code",
   "execution_count": null,
   "metadata": {},
   "outputs": [],
   "source": [
    "df.to_csv(\"uncleaned_saudi_pro_league_matches.csv\", index=False)"
   ]
  }
 ],
 "metadata": {
  "kernelspec": {
   "display_name": "default_env",
   "language": "python",
   "name": "python3"
  },
  "language_info": {
   "codemirror_mode": {
    "name": "ipython",
    "version": 3
   },
   "file_extension": ".py",
   "mimetype": "text/x-python",
   "name": "python",
   "nbconvert_exporter": "python",
   "pygments_lexer": "ipython3",
   "version": "3.10.16"
  }
 },
 "nbformat": 4,
 "nbformat_minor": 2
}
